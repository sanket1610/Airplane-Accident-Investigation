{
 "cells": [
  {
   "cell_type": "markdown",
   "metadata": {},
   "source": [
    "# Airplane Accidents Investigation\n",
    "\n",
    "\n",
    "The objective of this project is to explore the AviationData.txt file that was created by the National Transportation Safety Board (NTSB) and found here at the data.gov website.\n",
    "\n",
    "### Collecting the Data\n",
    "We will be working with a data set (along with its meta data) that contains 77,282 aviation accidents that occured in the U.S.. The data in the AviationData.txt file comes in CSV format, however the delimiter is the pipe '|' character. Each row contains data about a single aviation accident. Following are the name of the columns along with their descriptions:\n",
    "\n",
    "* Event Id - The unique id for the incident\n",
    "* Investigation Type - The type of investigation the NTSB conducted\n",
    "* Event Date - The date of the accident\n",
    "* Location - Where the accident occurred\n",
    "* Longitude - The longitude where the accident occurred\n",
    "* Lattitude - The lattitude where the accident occurred\n",
    "* Injury Severity - The severity of any injuries\n",
    "* Aircraft Damage - The extent of the damage to the aircraft\n",
    "* Aircraft Category - The type of aircraft\n",
    "* Make - The make of the aircraft\n",
    "* Model - The model of the aircraft\n",
    "* Number of Engines - The number of engines on the plane\n",
    "* Air Carrier - The carrier operating the aircraft\n",
    "* Total Fatal Injuries - The number of fatal injuries\n",
    "* Total Serious Injuries - The number of serious injuries\n",
    "* Total Minor Injuries - The number of minor injuries\n",
    "* Total Uninjured - The number of people who did not sustain any injuries\n",
    "* Broad Phase of Flight"
   ]
  },
  {
   "cell_type": "code",
   "execution_count": 457,
   "metadata": {},
   "outputs": [],
   "source": [
    "import matplotlib.pyplot as plt\n",
    "import pandas as pd\n",
    "f = open(\"AviationData.txt\",\"r\")\n",
    "aviation_data = f.read().split(\"\\n\")\n",
    "\n",
    "#splitting each row in the aviation_data list by \" | \"\n",
    "aviation_list = []\n",
    "for items in aviation_data:\n",
    "    aviation_list.append(items.split(\"|\"))\n"
   ]
  },
  {
   "cell_type": "markdown",
   "metadata": {},
   "source": [
    "Now we are goin to linear search through the aviation_list to find \"LAX94LA336\""
   ]
  },
  {
   "cell_type": "code",
   "execution_count": 463,
   "metadata": {},
   "outputs": [
    {
     "name": "stdout",
     "output_type": "stream",
     "text": [
      "time took for this operation: 0.363  seconds\n"
     ]
    }
   ],
   "source": [
    "import time\n",
    "a = time.time()\n",
    "lax_code1 = []\n",
    "for row in aviation_list:\n",
    "    for item in row:\n",
    "        if 'LAX94LA336' in item:\n",
    "            lax_code1.append(row)\n",
    "            \n",
    "lax_code1            \n",
    "print('time took for this operation:', round(time.time()-a,3),' seconds')"
   ]
  },
  {
   "cell_type": "code",
   "execution_count": 464,
   "metadata": {},
   "outputs": [
    {
     "name": "stdout",
     "output_type": "stream",
     "text": [
      "time took for this operation: 0.696  seconds\n"
     ]
    }
   ],
   "source": [
    "a = time.time()\n",
    "lax_code = []\n",
    "for i in range(len(aviation_list)):\n",
    "    for j in range(len(aviation_list[i])):\n",
    "        if 'LAX94LA336' in aviation_list[i][j]:\n",
    "            lax_code.append(aviation_list[i])\n",
    "lax_code       \n",
    "print('time took for this operation:', round(time.time()-a,3),' seconds')"
   ]
  },
  {
   "cell_type": "markdown",
   "metadata": {},
   "source": [
    "### Creating a list of dictionaries to store data"
   ]
  },
  {
   "cell_type": "code",
   "execution_count": 472,
   "metadata": {},
   "outputs": [],
   "source": [
    "columns = aviation_data[0].split(\"|\")\n",
    "col_names = [element.strip() for element in columns]\n",
    "aviation_dict_list = []\n",
    "\n",
    "for row in aviation_data[1:]:\n",
    "    split = row.split(\" | \")\n",
    "    temp_dict = {}\n",
    "    for i in range(len(split)):\n",
    "        temp_dict[col_names[i]] = split[i]\n",
    "    aviation_dict_list.append(temp_dict)\n",
    "\n",
    "    "
   ]
  },
  {
   "cell_type": "markdown",
   "metadata": {},
   "source": [
    "### Search through aviation_dict_list for LAX94LA336"
   ]
  },
  {
   "cell_type": "code",
   "execution_count": 466,
   "metadata": {},
   "outputs": [],
   "source": [
    "lax_dict = []\n",
    "for dic in aviation_dict_list:\n",
    "    for item in dic:\n",
    "        if \"LAX94LA336\" in dic[item]:\n",
    "            lax_dict.append(dic)\n",
    "            \n"
   ]
  },
  {
   "cell_type": "code",
   "execution_count": 467,
   "metadata": {
    "scrolled": true
   },
   "outputs": [],
   "source": [
    "lax_dict1 = []\n",
    "for dic in aviation_dict_list:\n",
    "    if 'LAX94LA336' in dic.values():\n",
    "        lax_dict1.append(dic)\n"
   ]
  },
  {
   "cell_type": "markdown",
   "metadata": {},
   "source": [
    "### Investigating states with most accidents\n",
    "\n",
    "Now, we find out States with most accident in aviation."
   ]
  },
  {
   "cell_type": "code",
   "execution_count": 468,
   "metadata": {},
   "outputs": [
    {
     "name": "stderr",
     "output_type": "stream",
     "text": [
      "C:\\Users\\sanke\\AppData\\Local\\Continuum\\anaconda3\\lib\\site-packages\\ipykernel_launcher.py:15: FutureWarning: `Series.plot()` should not be called with positional arguments, only keyword arguments. The order of positional arguments will change in the future. Use `Series.plot(kind='bar')` instead of `Series.plot('bar',)`.\n",
      "  from ipykernel import kernelapp as app\n"
     ]
    },
    {
     "data": {
      "text/plain": [
       "<matplotlib.axes._subplots.AxesSubplot at 0x1fbb3524dc8>"
      ]
     },
     "execution_count": 468,
     "metadata": {},
     "output_type": "execute_result"
    },
    {
     "data": {
      "image/png": "[encoded data removed]",
      "text/plain": [
       "<Figure size 432x288 with 1 Axes>"
      ]
     },
     "metadata": {
      "needs_background": "light"
     },
     "output_type": "display_data"
    }
   ],
   "source": [
    "#Removing empty dictionary\n",
    "aviation_dict_list = aviation_dict_list[:-1]\n",
    "\n",
    "accident_states = {}\n",
    "for dic in aviation_dict_list:\n",
    "    if dic['Country'] == 'United States' and ',' in dic['Location']:\n",
    "        state = dic['Location'].split(',')[1]\n",
    "        if state in accident_states:\n",
    "            accident_states[state] += 1\n",
    "        else:\n",
    "            accident_states[state] = 1\n",
    "            \n",
    "            \n",
    "accident = pd.Series(accident_states).sort_values(ascending = False).head()\n",
    "accident.plot('bar')"
   ]
  },
  {
   "cell_type": "markdown",
   "metadata": {},
   "source": [
    "From the above graph we can say that California have the most airplain accident record of around 8000, thereafter Florida, Texas, Arkansis have more of the same accidents redords of around 5000"
   ]
  },
  {
   "cell_type": "markdown",
   "metadata": {},
   "source": [
    "### Determining Max injuries\n",
    "\n",
    "Here we are going to determinine total number of injuries with months and their year in which accident occured. we are going to combine total fatal injuries and serious injuries so that we get the accurate result."
   ]
  },
  {
   "cell_type": "code",
   "execution_count": 469,
   "metadata": {},
   "outputs": [
    {
     "name": "stderr",
     "output_type": "stream",
     "text": [
      "C:\\Users\\sanke\\AppData\\Local\\Continuum\\anaconda3\\lib\\site-packages\\ipykernel_launcher.py:11: FutureWarning: `Series.plot()` should not be called with positional arguments, only keyword arguments. The order of positional arguments will change in the future. Use `Series.plot(kind='bar')` instead of `Series.plot('bar',)`.\n",
      "  # This is added back by InteractiveShellApp.init_path()\n"
     ]
    },
    {
     "data": {
      "text/plain": [
       "<matplotlib.axes._subplots.AxesSubplot at 0x1fb8f50e708>"
      ]
     },
     "execution_count": 469,
     "metadata": {},
     "output_type": "execute_result"
    },
    {
     "data": {
      "image/png": "[encoded data removed]",
      "text/plain": [
       "<Figure size 432x288 with 1 Axes>"
      ]
     },
     "metadata": {
      "needs_background": "light"
     },
     "output_type": "display_data"
    }
   ],
   "source": [
    "month_year_inj = {}\n",
    "for dic in aviation_dict_list:\n",
    "    if dic['Event Date'] != '' and (dic['Total Fatal Injuries']  != '' or dic['Total Serious Injuries'] != ''):\n",
    "        month_year = dic['Event Date'].split(\"/\")[0]+','+dic['Event Date'].split(\"/\")[-1]\n",
    "        injury_count = dic['Total Fatal Injuries'], dic['Total Serious Injuries']\n",
    "        month_year_inj[month_year] = injury_count\n",
    "        \n",
    "df = pd.DataFrame.from_dict(month_year_inj, orient = 'index', columns = ['a','b'])\n",
    "df['Total Fatility'] = df['a'] + df['b']\n",
    "df.drop(['a','b'], axis = 1)\n",
    "df['Total Fatility'].astype(int).sort_values(ascending = False).head(20).plot('bar', color = 'pink')"
   ]
  },
  {
   "cell_type": "markdown",
   "metadata": {},
   "source": [
    "From the above graph, we can see the months and years with the number of fatality rate. In jan 2007 there was most fatality."
   ]
  }
 ],
 "metadata": {
  "kernelspec": {
   "display_name": "Python 3",
   "language": "python",
   "name": "python3"
  },
  "language_info": {
   "codemirror_mode": {
    "name": "ipython",
    "version": 3
   },
   "file_extension": ".py",
   "mimetype": "text/x-python",
   "name": "python",
   "nbconvert_exporter": "python",
   "pygments_lexer": "ipython3",
   "version": "3.7.4"
  }
 },
 "nbformat": 4,
 "nbformat_minor": 2
}
